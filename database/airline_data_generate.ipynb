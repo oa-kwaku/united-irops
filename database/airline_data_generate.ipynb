{
 "cells": [
  {
   "cell_type": "markdown",
   "metadata": {},
   "source": [
    "Ingest and pull airline data "
   ]
  },
  {
   "cell_type": "code",
   "execution_count": 4,
   "metadata": {},
   "outputs": [],
   "source": [
    "import json\n",
    "import sqlite3\n",
    "import random\n",
    "from datetime import datetime, timedelta\n",
    "import pprint\n",
    "\n",
    "random.seed(42)"
   ]
  },
  {
   "cell_type": "code",
   "execution_count": 5,
   "metadata": {},
   "outputs": [],
   "source": [
    "locations = ['JFK', 'LAX', 'ORD', 'ATL', 'DFW', 'DEN', 'SFO', 'SEA', 'MIA', 'BOS']\n",
    "airline_codes = ['AA', 'DL', 'UA', 'SW', 'JB', 'AL']"
   ]
  },
  {
   "cell_type": "code",
   "execution_count": 6,
   "metadata": {},
   "outputs": [],
   "source": [
    "\n",
    "def generate_flight_data(num_records=5000):\n",
    "    flight_data = []\n",
    "    base_time = datetime(2025, 6, 18, 5, 0, 0)\n",
    "\n",
    "    for _ in range(num_records):\n",
    "        departure_location = random.choice(locations)\n",
    "        arrival_location = random.choice([loc for loc in locations if loc != departure_location])\n",
    "\n",
    "        departure_time = base_time + timedelta(minutes=random.randint(0, 60*24*30))  # within next 30 days\n",
    "        flight_duration = timedelta(minutes=random.randint(60, 300))  # 1–5 hour flight\n",
    "        arrival_time = departure_time + flight_duration\n",
    "\n",
    "        flight_number = f\"{random.choice(airline_codes)}{random.randint(100, 9999)}\"\n",
    "\n",
    "        flight_data.append({\n",
    "            \"flight_number\": flight_number,\n",
    "            \"departure_location\": departure_location,\n",
    "            \"arrival_location\": arrival_location,\n",
    "            \"departure_time\": departure_time.strftime('%Y-%m-%d %H:%M:%S'),\n",
    "            \"arrival_time\": arrival_time.strftime('%Y-%m-%d %H:%M:%S')\n",
    "        })\n",
    "\n",
    "    return flight_data"
   ]
  },
  {
   "cell_type": "code",
   "execution_count": null,
   "metadata": {},
   "outputs": [],
   "source": [
    "flight_data = generate_flight_data()\n",
    "\n",
    "# Write to a JSON file\n",
    "with open(\"synthetic_airline_data.json\", \"w\") as f:\n",
    "    json.dump(synthetic_data, f, indent=2)\n",
    "\n",
    "print(\"Synthetic airline data (5,000 records) saved to 'synthetic_airline_data.json'\")\n"
   ]
  },
  {
   "cell_type": "code",
   "execution_count": null,
   "metadata": {},
   "outputs": [],
   "source": [
    "pprint.pprint(flight_data[:5])"
   ]
  },
  {
   "cell_type": "code",
   "execution_count": null,
   "metadata": {},
   "outputs": [],
   "source": []
  },
  {
   "cell_type": "code",
   "execution_count": null,
   "metadata": {},
   "outputs": [],
   "source": [
    "conn = sqlite3.connect(\"flights.db\")\n",
    "c = conn.cursor()\n",
    "\n",
    "c.execute(\"\"\"\n",
    "CREATE TABLE IF NOT EXISTS flights (\n",
    "    id INTEGER PRIMARY KEY AUTOINCREMENT,\n",
    "    flight_number TEXT NOT NULL,\n",
    "    departure_location TEXT NOT NULL,\n",
    "    arrival_location TEXT NOT NULL,\n",
    "    departure_time TEXT NOT NULL,\n",
    "    arrival_time TEXT NOT NULL\n",
    ")\n",
    "\"\"\")\n",
    "\n",
    "for flight in flight_data:\n",
    "    c.execute(\"\"\"\n",
    "    INSERT INTO flights (flight_number, departure_location, arrival_location, departure_time, arrival_time)\n",
    "    VALUES (?, ?, ?, ?, ?)\n",
    "    \"\"\", (\n",
    "        flight[\"flight_number\"],\n",
    "        flight[\"departure_location\"],\n",
    "        flight[\"arrival_location\"],\n",
    "        flight[\"departure_time\"],\n",
    "        flight[\"arrival_time\"]\n",
    "    ))\n",
    "\n",
    "conn.commit()\n",
    "conn.close()\n"
   ]
  },
  {
   "cell_type": "markdown",
   "metadata": {},
   "source": [
    "## augment the synthetic data tables"
   ]
  },
  {
   "cell_type": "code",
   "execution_count": 2,
   "metadata": {},
   "outputs": [],
   "source": [
    "import pandas as pd\n",
    "import numpy as np\n",
    "import sqlite3\n",
    "\n",
    "# Load flights\n",
    "flights = pd.read_csv(\"united_ops/cleaned_flights.csv\")\n",
    "delayed_or_cancelled = flights[flights[\"status\"].isin([\"delayed\", \"cancelled\"])].copy()\n",
    "\n",
    "# Regenerate CREW\n",
    "crew_rows = []\n",
    "for _, row in delayed_or_cancelled.iterrows():\n",
    "    n_crew = np.random.randint(4, 7)\n",
    "    for i in range(n_crew):\n",
    "        crew_rows.append({\n",
    "            \"crew_id\": f\"{row.flight_number}_C{i}\",\n",
    "            \"name\": f\"Crew_{i}\",\n",
    "            \"assigned_flight\": row.flight_number,\n",
    "            \"base\": \"ORD\",\n",
    "            \"duty_start\": row[\"departure_time\"],\n",
    "            \"duty_end\": row[\"arrival_time\"],\n",
    "        })\n",
    "crew_df = pd.DataFrame(crew_rows)\n",
    "\n",
    "# Regenerate PASSENGERS\n",
    "passenger_rows = []\n",
    "for _, row in delayed_or_cancelled.iterrows():\n",
    "    n_pax = np.random.randint(10, 151)\n",
    "    for i in range(n_pax):\n",
    "        passenger_rows.append({\n",
    "            \"passenger_id\": f\"{row.flight_number}_P{i}\",\n",
    "            \"name\": f\"Passenger_{i}\",\n",
    "            \"flight_number\": row.flight_number,\n",
    "            \"loyalty_tier\": np.random.choice([\"Basic\", \"Silver\", \"Gold\", \"1K\"], p=[0.6, 0.2, 0.15, 0.05]),\n",
    "        })\n",
    "passengers_df = pd.DataFrame(passenger_rows)\n",
    "\n",
    "# Save and overwrite DB\n",
    "crew_df.to_csv(\"united_ops/cleaned_crew.csv\", index=False)\n",
    "passengers_df.to_csv(\"united_ops/cleaned_passengers.csv\", index=False)\n",
    "\n",
    "conn = sqlite3.connect(\"united_ops.db\")\n",
    "crew_df.to_sql(\"crew\", conn, if_exists=\"replace\", index=False)\n",
    "passengers_df.to_sql(\"passengers\", conn, if_exists=\"replace\", index=False)\n",
    "conn.commit()\n",
    "conn.close()\n"
   ]
  },
  {
   "cell_type": "markdown",
   "metadata": {},
   "source": [
    "### Create Tables"
   ]
  },
  {
   "cell_type": "code",
   "execution_count": 5,
   "metadata": {},
   "outputs": [],
   "source": [
    "import pandas as pd\n",
    "import sqlite3\n",
    "\n",
    "crew_df = pd.read_csv(\"united_ops/cleaned_crew.csv\")\n",
    "flights_df = pd.read_csv(\"united_ops/cleaned_flights.csv\")\n",
    "passengers_df = pd.read_csv(\"united_ops/cleaned_passengers.csv\")\n",
    "\n",
    "conn = sqlite3.connect(\"united_ops.db\")\n",
    "\n",
    "crew_df.to_sql(\"crew\", conn, if_exists=\"replace\", index=False)\n",
    "flights_df.to_sql(\"flights\", conn, if_exists=\"replace\", index=False)\n",
    "passengers_df.to_sql(\"passengers\", conn, if_exists=\"replace\", index=False)\n",
    "\n",
    "conn.execute(\"CREATE INDEX IF NOT EXISTS idx_flights_flight_number ON flights(flight_number);\")\n",
    "conn.execute(\"CREATE INDEX IF NOT EXISTS idx_passengers_flight_number ON passengers(flight_number);\")\n",
    "conn.execute(\"CREATE INDEX IF NOT EXISTS idx_crew_flight ON crew(assigned_flight);\")\n",
    "\n",
    "conn.commit()\n",
    "conn.close()\n"
   ]
  },
  {
   "cell_type": "markdown",
   "metadata": {},
   "source": [
    "### Creating a Test Scenario"
   ]
  },
  {
   "cell_type": "code",
   "execution_count": 6,
   "metadata": {},
   "outputs": [],
   "source": [
    "def get_delay_issues_from_db(db_path=\"united_ops.db\") -> pd.DataFrame:\n",
    "    \"\"\"\n",
    "    Fetch delayed or cancelled flights with crew and passenger counts from the United Ops DB.\n",
    "    \n",
    "    Args:\n",
    "        db_path (str): Path to the SQLite database file.\n",
    "\n",
    "    Returns:\n",
    "        pd.DataFrame: Table of delay/cancellation issues with relevant operational info.\n",
    "    \"\"\"\n",
    "    query = \"\"\"\n",
    "    SELECT \n",
    "        f.flight_number AS \"Flight\",\n",
    "        f.departure_location AS \"From\",\n",
    "        f.arrival_location AS \"To\",\n",
    "        f.status AS \"Status\",\n",
    "        f.departure_time AS \"Dep Time\",\n",
    "        f.arrival_time AS \"Arr Time\",\n",
    "        f.gate AS \"Gate\",\n",
    "        COUNT(DISTINCT c.crew_id) AS \"Crew Assigned\",\n",
    "        COUNT(DISTINCT p.passenger_id) AS \"Passenger Count\"\n",
    "    FROM flights f\n",
    "    LEFT JOIN crew c ON f.flight_number = c.assigned_flight\n",
    "    LEFT JOIN passengers p ON f.flight_number = p.flight_number\n",
    "    WHERE f.status IN ('delayed', 'cancelled')\n",
    "    GROUP BY f.flight_number\n",
    "    ORDER BY f.departure_time;\n",
    "    \"\"\"\n",
    "\n",
    "    with sqlite3.connect(db_path) as conn:\n",
    "        return pd.read_sql_query(query, conn)"
   ]
  },
  {
   "cell_type": "code",
   "execution_count": 7,
   "metadata": {},
   "outputs": [
    {
     "name": "stdout",
     "output_type": "stream",
     "text": [
      "   Flight From   To     Status             Dep Time             Arr Time Gate  \\\n",
      "0  JB6515  ORD  ATL  cancelled  2025-06-18 06:57:00  2025-06-18 10:56:00  B11   \n",
      "1   AL895  ORD  MIA    delayed  2025-06-18 09:44:00  2025-06-18 12:59:00  B18   \n",
      "2  AA1132  SFO  ORD  cancelled  2025-06-18 19:29:00  2025-06-18 22:56:00  B10   \n",
      "3   AA360  ORD  ATL  cancelled  2025-06-18 20:09:00  2025-06-18 21:57:00   B2   \n",
      "4  JB8228  SFO  ORD    delayed  2025-06-18 21:17:00  2025-06-18 22:35:00   B5   \n",
      "\n",
      "   Crew Assigned  Passenger Count  \n",
      "0              5              107  \n",
      "1              4               71  \n",
      "2              6               80  \n",
      "3              6               68  \n",
      "4              4              129  \n"
     ]
    }
   ],
   "source": [
    "delay_df = get_delay_issues_from_db(\"united_ops.db\")\n",
    "print(delay_df.head())"
   ]
  }
 ],
 "metadata": {
  "language_info": {
   "name": "python"
  }
 },
 "nbformat": 4,
 "nbformat_minor": 2
}
